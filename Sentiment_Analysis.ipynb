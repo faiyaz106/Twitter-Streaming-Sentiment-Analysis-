{
  "cells": [
    {
      "cell_type": "code",
      "execution_count": null,
      "id": "c3c3b8c5",
      "metadata": {
        "id": "c3c3b8c5"
      },
      "outputs": [],
      "source": [
        "import pandas as pd\n",
        "import numpy as np\n",
        "import matplotlib.pyplot as plt"
      ]
    },
    {
      "cell_type": "code",
      "source": [
        "from google.colab import drive\n",
        "drive.mount('/content/drive/')"
      ],
      "metadata": {
        "id": "YyJ-KeBAwlOK",
        "colab": {
          "base_uri": "https://localhost:8080/"
        },
        "outputId": "d4e8e060-d1e0-4174-94c5-36c5460dd46a"
      },
      "id": "YyJ-KeBAwlOK",
      "execution_count": null,
      "outputs": [
        {
          "output_type": "stream",
          "name": "stdout",
          "text": [
            "Mounted at /content/drive/\n"
          ]
        }
      ]
    },
    {
      "cell_type": "code",
      "execution_count": null,
      "id": "5a1138a6",
      "metadata": {
        "id": "5a1138a6"
      },
      "outputs": [],
      "source": [
        "header=['target','ids','date','flag','user','text']\n",
        "path='/content/drive/MyDrive/Twitter Sentiment Analysis Data/training.1600000.processed.noemoticon.csv'\n",
        "df=pd.read_csv(path,encoding='Latin-1',names=header)"
      ]
    },
    {
      "cell_type": "code",
      "execution_count": null,
      "id": "3cafa024",
      "metadata": {
        "id": "3cafa024",
        "outputId": "783f5c25-fb72-47cf-c795-05fdecd59279",
        "colab": {
          "base_uri": "https://localhost:8080/",
          "height": 206
        }
      },
      "outputs": [
        {
          "output_type": "execute_result",
          "data": {
            "text/plain": [
              "   target         ids                          date      flag  \\\n",
              "0       0  1467810369  Mon Apr 06 22:19:45 PDT 2009  NO_QUERY   \n",
              "1       0  1467810672  Mon Apr 06 22:19:49 PDT 2009  NO_QUERY   \n",
              "2       0  1467810917  Mon Apr 06 22:19:53 PDT 2009  NO_QUERY   \n",
              "3       0  1467811184  Mon Apr 06 22:19:57 PDT 2009  NO_QUERY   \n",
              "4       0  1467811193  Mon Apr 06 22:19:57 PDT 2009  NO_QUERY   \n",
              "\n",
              "              user                                               text  \n",
              "0  _TheSpecialOne_  @switchfoot http://twitpic.com/2y1zl - Awww, t...  \n",
              "1    scotthamilton  is upset that he can't update his Facebook by ...  \n",
              "2         mattycus  @Kenichan I dived many times for the ball. Man...  \n",
              "3          ElleCTF    my whole body feels itchy and like its on fire   \n",
              "4           Karoli  @nationwideclass no, it's not behaving at all....  "
            ],
            "text/html": [
              "\n",
              "  <div id=\"df-99788dff-ae3a-4c11-bdce-47a697a58d01\">\n",
              "    <div class=\"colab-df-container\">\n",
              "      <div>\n",
              "<style scoped>\n",
              "    .dataframe tbody tr th:only-of-type {\n",
              "        vertical-align: middle;\n",
              "    }\n",
              "\n",
              "    .dataframe tbody tr th {\n",
              "        vertical-align: top;\n",
              "    }\n",
              "\n",
              "    .dataframe thead th {\n",
              "        text-align: right;\n",
              "    }\n",
              "</style>\n",
              "<table border=\"1\" class=\"dataframe\">\n",
              "  <thead>\n",
              "    <tr style=\"text-align: right;\">\n",
              "      <th></th>\n",
              "      <th>target</th>\n",
              "      <th>ids</th>\n",
              "      <th>date</th>\n",
              "      <th>flag</th>\n",
              "      <th>user</th>\n",
              "      <th>text</th>\n",
              "    </tr>\n",
              "  </thead>\n",
              "  <tbody>\n",
              "    <tr>\n",
              "      <th>0</th>\n",
              "      <td>0</td>\n",
              "      <td>1467810369</td>\n",
              "      <td>Mon Apr 06 22:19:45 PDT 2009</td>\n",
              "      <td>NO_QUERY</td>\n",
              "      <td>_TheSpecialOne_</td>\n",
              "      <td>@switchfoot http://twitpic.com/2y1zl - Awww, t...</td>\n",
              "    </tr>\n",
              "    <tr>\n",
              "      <th>1</th>\n",
              "      <td>0</td>\n",
              "      <td>1467810672</td>\n",
              "      <td>Mon Apr 06 22:19:49 PDT 2009</td>\n",
              "      <td>NO_QUERY</td>\n",
              "      <td>scotthamilton</td>\n",
              "      <td>is upset that he can't update his Facebook by ...</td>\n",
              "    </tr>\n",
              "    <tr>\n",
              "      <th>2</th>\n",
              "      <td>0</td>\n",
              "      <td>1467810917</td>\n",
              "      <td>Mon Apr 06 22:19:53 PDT 2009</td>\n",
              "      <td>NO_QUERY</td>\n",
              "      <td>mattycus</td>\n",
              "      <td>@Kenichan I dived many times for the ball. Man...</td>\n",
              "    </tr>\n",
              "    <tr>\n",
              "      <th>3</th>\n",
              "      <td>0</td>\n",
              "      <td>1467811184</td>\n",
              "      <td>Mon Apr 06 22:19:57 PDT 2009</td>\n",
              "      <td>NO_QUERY</td>\n",
              "      <td>ElleCTF</td>\n",
              "      <td>my whole body feels itchy and like its on fire</td>\n",
              "    </tr>\n",
              "    <tr>\n",
              "      <th>4</th>\n",
              "      <td>0</td>\n",
              "      <td>1467811193</td>\n",
              "      <td>Mon Apr 06 22:19:57 PDT 2009</td>\n",
              "      <td>NO_QUERY</td>\n",
              "      <td>Karoli</td>\n",
              "      <td>@nationwideclass no, it's not behaving at all....</td>\n",
              "    </tr>\n",
              "  </tbody>\n",
              "</table>\n",
              "</div>\n",
              "      <button class=\"colab-df-convert\" onclick=\"convertToInteractive('df-99788dff-ae3a-4c11-bdce-47a697a58d01')\"\n",
              "              title=\"Convert this dataframe to an interactive table.\"\n",
              "              style=\"display:none;\">\n",
              "        \n",
              "  <svg xmlns=\"http://www.w3.org/2000/svg\" height=\"24px\"viewBox=\"0 0 24 24\"\n",
              "       width=\"24px\">\n",
              "    <path d=\"M0 0h24v24H0V0z\" fill=\"none\"/>\n",
              "    <path d=\"M18.56 5.44l.94 2.06.94-2.06 2.06-.94-2.06-.94-.94-2.06-.94 2.06-2.06.94zm-11 1L8.5 8.5l.94-2.06 2.06-.94-2.06-.94L8.5 2.5l-.94 2.06-2.06.94zm10 10l.94 2.06.94-2.06 2.06-.94-2.06-.94-.94-2.06-.94 2.06-2.06.94z\"/><path d=\"M17.41 7.96l-1.37-1.37c-.4-.4-.92-.59-1.43-.59-.52 0-1.04.2-1.43.59L10.3 9.45l-7.72 7.72c-.78.78-.78 2.05 0 2.83L4 21.41c.39.39.9.59 1.41.59.51 0 1.02-.2 1.41-.59l7.78-7.78 2.81-2.81c.8-.78.8-2.07 0-2.86zM5.41 20L4 18.59l7.72-7.72 1.47 1.35L5.41 20z\"/>\n",
              "  </svg>\n",
              "      </button>\n",
              "      \n",
              "  <style>\n",
              "    .colab-df-container {\n",
              "      display:flex;\n",
              "      flex-wrap:wrap;\n",
              "      gap: 12px;\n",
              "    }\n",
              "\n",
              "    .colab-df-convert {\n",
              "      background-color: #E8F0FE;\n",
              "      border: none;\n",
              "      border-radius: 50%;\n",
              "      cursor: pointer;\n",
              "      display: none;\n",
              "      fill: #1967D2;\n",
              "      height: 32px;\n",
              "      padding: 0 0 0 0;\n",
              "      width: 32px;\n",
              "    }\n",
              "\n",
              "    .colab-df-convert:hover {\n",
              "      background-color: #E2EBFA;\n",
              "      box-shadow: 0px 1px 2px rgba(60, 64, 67, 0.3), 0px 1px 3px 1px rgba(60, 64, 67, 0.15);\n",
              "      fill: #174EA6;\n",
              "    }\n",
              "\n",
              "    [theme=dark] .colab-df-convert {\n",
              "      background-color: #3B4455;\n",
              "      fill: #D2E3FC;\n",
              "    }\n",
              "\n",
              "    [theme=dark] .colab-df-convert:hover {\n",
              "      background-color: #434B5C;\n",
              "      box-shadow: 0px 1px 3px 1px rgba(0, 0, 0, 0.15);\n",
              "      filter: drop-shadow(0px 1px 2px rgba(0, 0, 0, 0.3));\n",
              "      fill: #FFFFFF;\n",
              "    }\n",
              "  </style>\n",
              "\n",
              "      <script>\n",
              "        const buttonEl =\n",
              "          document.querySelector('#df-99788dff-ae3a-4c11-bdce-47a697a58d01 button.colab-df-convert');\n",
              "        buttonEl.style.display =\n",
              "          google.colab.kernel.accessAllowed ? 'block' : 'none';\n",
              "\n",
              "        async function convertToInteractive(key) {\n",
              "          const element = document.querySelector('#df-99788dff-ae3a-4c11-bdce-47a697a58d01');\n",
              "          const dataTable =\n",
              "            await google.colab.kernel.invokeFunction('convertToInteractive',\n",
              "                                                     [key], {});\n",
              "          if (!dataTable) return;\n",
              "\n",
              "          const docLinkHtml = 'Like what you see? Visit the ' +\n",
              "            '<a target=\"_blank\" href=https://colab.research.google.com/notebooks/data_table.ipynb>data table notebook</a>'\n",
              "            + ' to learn more about interactive tables.';\n",
              "          element.innerHTML = '';\n",
              "          dataTable['output_type'] = 'display_data';\n",
              "          await google.colab.output.renderOutput(dataTable, element);\n",
              "          const docLink = document.createElement('div');\n",
              "          docLink.innerHTML = docLinkHtml;\n",
              "          element.appendChild(docLink);\n",
              "        }\n",
              "      </script>\n",
              "    </div>\n",
              "  </div>\n",
              "  "
            ]
          },
          "metadata": {},
          "execution_count": 5
        }
      ],
      "source": [
        "df.head()"
      ]
    },
    {
      "cell_type": "code",
      "execution_count": null,
      "id": "6805d077",
      "metadata": {
        "id": "6805d077",
        "outputId": "dd7e7ba9-7751-413a-9e82-f0c6fa8bf5f6",
        "colab": {
          "base_uri": "https://localhost:8080/"
        }
      },
      "outputs": [
        {
          "output_type": "execute_result",
          "data": {
            "text/plain": [
              "0    0.5\n",
              "4    0.5\n",
              "Name: target, dtype: float64"
            ]
          },
          "metadata": {},
          "execution_count": 6
        }
      ],
      "source": [
        "# Checking the  target:0 Negative Sentiment, target: 4 is positive sentiment.\n",
        "df['target'].value_counts(normalize=True)"
      ]
    },
    {
      "cell_type": "code",
      "execution_count": null,
      "id": "036ef893",
      "metadata": {
        "id": "036ef893",
        "outputId": "1777ec54-6e8e-4808-ce3d-c7d11c33bdd0",
        "colab": {
          "base_uri": "https://localhost:8080/"
        }
      },
      "outputs": [
        {
          "output_type": "execute_result",
          "data": {
            "text/plain": [
              "target    0\n",
              "ids       0\n",
              "date      0\n",
              "flag      0\n",
              "user      0\n",
              "text      0\n",
              "dtype: int64"
            ]
          },
          "metadata": {},
          "execution_count": 7
        }
      ],
      "source": [
        "# Check for Null values\n",
        "df.isnull().sum()"
      ]
    },
    {
      "cell_type": "markdown",
      "source": [],
      "metadata": {
        "id": "8SVaEsMm0nX4"
      },
      "id": "8SVaEsMm0nX4"
    },
    {
      "cell_type": "markdown",
      "source": [
        "## Data Preparation\n",
        "   1. Splitting the data into train(70%), validation(10%), and test (20%) set."
      ],
      "metadata": {
        "id": "IM1jWPA1asR1"
      },
      "id": "IM1jWPA1asR1"
    },
    {
      "cell_type": "code",
      "source": [
        "df['target']=[1 if i==4 else 0 for i in df['target']]"
      ],
      "metadata": {
        "id": "wfjMkAPuXhJF"
      },
      "id": "wfjMkAPuXhJF",
      "execution_count": null,
      "outputs": []
    },
    {
      "cell_type": "code",
      "source": [
        "df['target'].value_counts(normalize=True)"
      ],
      "metadata": {
        "colab": {
          "base_uri": "https://localhost:8080/"
        },
        "id": "xdOsL5aSW2KZ",
        "outputId": "82b998cf-0f6c-4704-c9f7-660ad3730201"
      },
      "id": "xdOsL5aSW2KZ",
      "execution_count": null,
      "outputs": [
        {
          "output_type": "execute_result",
          "data": {
            "text/plain": [
              "0    0.5\n",
              "1    0.5\n",
              "Name: target, dtype: float64"
            ]
          },
          "metadata": {},
          "execution_count": 9
        }
      ]
    },
    {
      "cell_type": "code",
      "source": [
        "def train_val_test_split(df, train_frac=.6, val_frac=.2, seed=None):\n",
        "    \"\"\" This function will be used to convert the dataset into train,test, and split.\n",
        "    \"\"\"\n",
        "    np.random.seed(seed)\n",
        "    shuffle_idx = np.random.permutation(df.index) # To shuffle the data\n",
        "    n = len(df)\n",
        "    train = int(train_frac* n)\n",
        "    val = int(val_frac * n) + train\n",
        "    train_df = df.iloc[shuffle_idx[:train]]\n",
        "    valid_df = df.iloc[shuffle_idx[train:val]]\n",
        "    test_df = df.iloc[shuffle_idx[val:]]\n",
        "    return train_df, valid_df, test_df"
      ],
      "metadata": {
        "id": "KI_x3D2cZA26"
      },
      "id": "KI_x3D2cZA26",
      "execution_count": null,
      "outputs": []
    },
    {
      "cell_type": "code",
      "source": [
        "# Divide the data into Train(70%), Validation(10%) and Test Set(20%)\n",
        "train,val,test=train_val_test_split(df=df,train_frac=0.7,val_frac=0.1,seed=25)"
      ],
      "metadata": {
        "id": "Zkk6za7BZCT3"
      },
      "id": "Zkk6za7BZCT3",
      "execution_count": null,
      "outputs": []
    },
    {
      "cell_type": "markdown",
      "id": "e3798693",
      "metadata": {
        "id": "e3798693"
      },
      "source": [
        "### Preprocess the text data \n",
        "    1. Removing the regular expression,URLs,Twitter handles,stopwords, numerics, and alphanumeric\n",
        "    2.Tokenizing the text\n",
        "    3.Lowercase\n",
        "    4. Lemmatization "
      ]
    },
    {
      "cell_type": "code",
      "execution_count": null,
      "id": "681f2fbb",
      "metadata": {
        "id": "681f2fbb",
        "colab": {
          "base_uri": "https://localhost:8080/"
        },
        "outputId": "70f82697-4f9e-4c1b-ed24-d1c97ba0789d"
      },
      "outputs": [
        {
          "output_type": "stream",
          "name": "stderr",
          "text": [
            "[nltk_data] Downloading package stopwords to /root/nltk_data...\n",
            "[nltk_data]   Unzipping corpora/stopwords.zip.\n",
            "[nltk_data] Downloading package wordnet to /root/nltk_data...\n"
          ]
        },
        {
          "output_type": "execute_result",
          "data": {
            "text/plain": [
              "True"
            ]
          },
          "metadata": {},
          "execution_count": 12
        }
      ],
      "source": [
        "import nltk\n",
        "import re\n",
        "from nltk.corpus import stopwords\n",
        "from nltk.stem import WordNetLemmatizer  # for lemmatization\n",
        "import time\n",
        "nltk.download('stopwords')\n",
        "nltk.download('wordnet')"
      ]
    },
    {
      "cell_type": "code",
      "execution_count": null,
      "id": "c64bbb3e",
      "metadata": {
        "id": "c64bbb3e"
      },
      "outputs": [],
      "source": [
        "wordnet=WordNetLemmatizer()\n",
        "stop_words=stopwords.words('english')+['com','http','https']"
      ]
    },
    {
      "cell_type": "code",
      "execution_count": null,
      "id": "ab7f5adc",
      "metadata": {
        "id": "ab7f5adc"
      },
      "outputs": [],
      "source": [
        "def text_preprocess(text):\n",
        "    x=re.sub(r'http\\S+','',text)  # Removing the URLs\n",
        "    x=re.sub(r'@\\S+','',x)        # Removing the twitter handle\n",
        "    x=re.sub('[^a-zA-Z]',' ',x)   # only keeping the text\n",
        "    x=x.lower().split()  # Tokenizing the text by sentence\n",
        "    x=[wordnet.lemmatize(word) for word in x if word not in stop_words and len(word)>1] # Lemmatize the wordnet\n",
        "    #x=' '.join(x)\n",
        "    return x"
      ]
    },
    {
      "cell_type": "code",
      "execution_count": null,
      "id": "08dd9380",
      "metadata": {
        "id": "08dd9380"
      },
      "outputs": [],
      "source": [
        "# Preprocess the text and converting the \n",
        "x_train=list(train['text'].values)\n",
        "y_train=list(train['target'].values)\n",
        "for i in range(0,len(x_train)):\n",
        "    x_train[i]=text_preprocess(x_train[i])"
      ]
    },
    {
      "cell_type": "code",
      "source": [
        "# Preprocess the validation set\n",
        "x_val=list(val['text'].values)\n",
        "y_val=list(val['target'].values)\n",
        "for i in range(0,len(x_val)):\n",
        "    x_val[i]=text_preprocess(x_val[i])"
      ],
      "metadata": {
        "id": "ec0EnTkUBzIs"
      },
      "id": "ec0EnTkUBzIs",
      "execution_count": null,
      "outputs": []
    },
    {
      "cell_type": "code",
      "source": [
        "# Preprocess the test set \n",
        "x_test=list(test['text'].values)\n",
        "y_test=list(test['target'].values)\n",
        "for i in range(0,len(x_test)):\n",
        "    x_test[i]=text_preprocess(x_test[i])"
      ],
      "metadata": {
        "id": "VDycZOfzRwbw"
      },
      "id": "VDycZOfzRwbw",
      "execution_count": null,
      "outputs": []
    },
    {
      "cell_type": "code",
      "source": [
        "train['target'].value_counts(normalize=True)"
      ],
      "metadata": {
        "colab": {
          "base_uri": "https://localhost:8080/"
        },
        "id": "FM0iovQ1VL_W",
        "outputId": "0dd9959e-d669-458d-cbf4-8a19d96bf37e"
      },
      "id": "FM0iovQ1VL_W",
      "execution_count": null,
      "outputs": [
        {
          "output_type": "execute_result",
          "data": {
            "text/plain": [
              "0    0.500346\n",
              "1    0.499654\n",
              "Name: target, dtype: float64"
            ]
          },
          "metadata": {},
          "execution_count": 18
        }
      ]
    },
    {
      "cell_type": "code",
      "source": [
        "test['target'].value_counts(normalize=True)"
      ],
      "metadata": {
        "colab": {
          "base_uri": "https://localhost:8080/"
        },
        "id": "_8J42vhKVMES",
        "outputId": "5f7aabb6-8997-48be-be3f-03bcfaca95b0"
      },
      "id": "_8J42vhKVMES",
      "execution_count": null,
      "outputs": [
        {
          "output_type": "execute_result",
          "data": {
            "text/plain": [
              "1    0.500478\n",
              "0    0.499522\n",
              "Name: target, dtype: float64"
            ]
          },
          "metadata": {},
          "execution_count": 19
        }
      ]
    },
    {
      "cell_type": "markdown",
      "id": "cadb7903",
      "metadata": {
        "id": "cadb7903"
      },
      "source": [
        "## Word2Vec Model: CBOW model "
      ]
    },
    {
      "cell_type": "code",
      "execution_count": null,
      "id": "04f6171e",
      "metadata": {
        "id": "04f6171e"
      },
      "outputs": [],
      "source": [
        "from gensim.models import Word2Vec"
      ]
    },
    {
      "cell_type": "code",
      "execution_count": null,
      "id": "f4648c8f",
      "metadata": {
        "id": "f4648c8f"
      },
      "outputs": [],
      "source": [
        "model = Word2Vec(sentences=x_train, vector_size=15, window=2, min_count=1, workers=4)"
      ]
    },
    {
      "cell_type": "code",
      "execution_count": null,
      "id": "0687a8ab",
      "metadata": {
        "id": "0687a8ab",
        "outputId": "bd3c9173-e5a0-4013-b503-556deade68ef",
        "colab": {
          "base_uri": "https://localhost:8080/"
        }
      },
      "outputs": [
        {
          "output_type": "execute_result",
          "data": {
            "text/plain": [
              "[('hahaha', 0.9583282470703125),\n",
              " ('hahah', 0.9475937485694885),\n",
              " ('hah', 0.9427162408828735),\n",
              " ('lol', 0.9400179982185364),\n",
              " ('yeah', 0.934079647064209)]"
            ]
          },
          "metadata": {},
          "execution_count": 27
        }
      ],
      "source": [
        "model.wv.most_similar('haha',topn=5)"
      ]
    },
    {
      "cell_type": "code",
      "source": [
        "model.wv.most_similar('egg',topn=5)"
      ],
      "metadata": {
        "colab": {
          "base_uri": "https://localhost:8080/"
        },
        "id": "O1EvU-N_n2mU",
        "outputId": "81d401cb-4c3a-4d5d-9e0c-b9d84fd623d8"
      },
      "id": "O1EvU-N_n2mU",
      "execution_count": null,
      "outputs": [
        {
          "output_type": "execute_result",
          "data": {
            "text/plain": [
              "[('bread', 0.972442090511322),\n",
              " ('tuna', 0.9662915468215942),\n",
              " ('bacon', 0.9632316827774048),\n",
              " ('oven', 0.9630887508392334),\n",
              " ('oreo', 0.962459146976471)]"
            ]
          },
          "metadata": {},
          "execution_count": 40
        }
      ]
    },
    {
      "cell_type": "code",
      "execution_count": null,
      "id": "a8b6f62a",
      "metadata": {
        "id": "a8b6f62a"
      },
      "outputs": [],
      "source": [
        "model.save('word2vec_2swd_vec_size_15.model')"
      ]
    },
    {
      "cell_type": "code",
      "source": [
        "def transform(w2v_model,data):\n",
        "    n=len(model.wv[0])\n",
        "    m=len(data)\n",
        "    vec=[]\n",
        "    for i in data:\n",
        "        count=0\n",
        "        temp=np.zeros(n)\n",
        "        for j in i:\n",
        "            if j in w2v_model.wv:\n",
        "                temp+=w2v_model.wv[j]\n",
        "                count+=1\n",
        "            else:\n",
        "                continue\n",
        "        if count!=0:\n",
        "            vec.append(temp/count)  \n",
        "        else:\n",
        "            vec.append(temp)\n",
        "    return np.array(vec)"
      ],
      "metadata": {
        "id": "IAXoML6oAikH"
      },
      "id": "IAXoML6oAikH",
      "execution_count": null,
      "outputs": []
    },
    {
      "cell_type": "code",
      "source": [
        "# Converting the text data into Numerical Features.\n",
        "x_train_vec=transform(model,x_train)\n",
        "x_val_vec=transform(model,x_val)\n",
        "x_test_vec=transform(model,x_test)\n"
      ],
      "metadata": {
        "id": "79I3FxGlbjZ9"
      },
      "id": "79I3FxGlbjZ9",
      "execution_count": null,
      "outputs": []
    },
    {
      "cell_type": "markdown",
      "id": "8e442c2c",
      "metadata": {
        "id": "8e442c2c"
      },
      "source": [
        "# Machine Learning training Models"
      ]
    },
    {
      "cell_type": "code",
      "source": [
        "# Important Libraries for Model Evaluation\n",
        "from sklearn.metrics import confusion_matrix,accuracy_score,classification_report,roc_curve,roc_auc_score\n",
        "import seaborn as sns"
      ],
      "metadata": {
        "id": "Xem2_0vgdpiv"
      },
      "id": "Xem2_0vgdpiv",
      "execution_count": null,
      "outputs": []
    },
    {
      "cell_type": "markdown",
      "source": [
        "### 1. Decision Tree Classifier"
      ],
      "metadata": {
        "id": "xaTuHeg4AoY3"
      },
      "id": "xaTuHeg4AoY3"
    },
    {
      "cell_type": "code",
      "execution_count": null,
      "id": "2d4ddb22",
      "metadata": {
        "id": "2d4ddb22"
      },
      "outputs": [],
      "source": [
        "from sklearn.tree import DecisionTreeClassifier"
      ]
    },
    {
      "cell_type": "code",
      "execution_count": null,
      "id": "0f1c882f",
      "metadata": {
        "id": "0f1c882f"
      },
      "outputs": [],
      "source": [
        "def train_decision_tree(x,y,**params):\n",
        "  dt=DecisionTreeClassifier(random_state=0)\n",
        "  dt.set_params(**params)\n",
        "  dt.fit(x,y)\n",
        "  return dt"
      ]
    },
    {
      "cell_type": "code",
      "execution_count": null,
      "id": "8130dfd5",
      "metadata": {
        "id": "8130dfd5",
        "colab": {
          "base_uri": "https://localhost:8080/",
          "height": 74
        },
        "outputId": "df2a9ddb-7984-409f-fbea-2b5d014580b2"
      },
      "outputs": [
        {
          "output_type": "execute_result",
          "data": {
            "text/plain": [
              "DecisionTreeClassifier()"
            ],
            "text/html": [
              "<style>#sk-container-id-2 {color: black;background-color: white;}#sk-container-id-2 pre{padding: 0;}#sk-container-id-2 div.sk-toggleable {background-color: white;}#sk-container-id-2 label.sk-toggleable__label {cursor: pointer;display: block;width: 100%;margin-bottom: 0;padding: 0.3em;box-sizing: border-box;text-align: center;}#sk-container-id-2 label.sk-toggleable__label-arrow:before {content: \"▸\";float: left;margin-right: 0.25em;color: #696969;}#sk-container-id-2 label.sk-toggleable__label-arrow:hover:before {color: black;}#sk-container-id-2 div.sk-estimator:hover label.sk-toggleable__label-arrow:before {color: black;}#sk-container-id-2 div.sk-toggleable__content {max-height: 0;max-width: 0;overflow: hidden;text-align: left;background-color: #f0f8ff;}#sk-container-id-2 div.sk-toggleable__content pre {margin: 0.2em;color: black;border-radius: 0.25em;background-color: #f0f8ff;}#sk-container-id-2 input.sk-toggleable__control:checked~div.sk-toggleable__content {max-height: 200px;max-width: 100%;overflow: auto;}#sk-container-id-2 input.sk-toggleable__control:checked~label.sk-toggleable__label-arrow:before {content: \"▾\";}#sk-container-id-2 div.sk-estimator input.sk-toggleable__control:checked~label.sk-toggleable__label {background-color: #d4ebff;}#sk-container-id-2 div.sk-label input.sk-toggleable__control:checked~label.sk-toggleable__label {background-color: #d4ebff;}#sk-container-id-2 input.sk-hidden--visually {border: 0;clip: rect(1px 1px 1px 1px);clip: rect(1px, 1px, 1px, 1px);height: 1px;margin: -1px;overflow: hidden;padding: 0;position: absolute;width: 1px;}#sk-container-id-2 div.sk-estimator {font-family: monospace;background-color: #f0f8ff;border: 1px dotted black;border-radius: 0.25em;box-sizing: border-box;margin-bottom: 0.5em;}#sk-container-id-2 div.sk-estimator:hover {background-color: #d4ebff;}#sk-container-id-2 div.sk-parallel-item::after {content: \"\";width: 100%;border-bottom: 1px solid gray;flex-grow: 1;}#sk-container-id-2 div.sk-label:hover label.sk-toggleable__label {background-color: #d4ebff;}#sk-container-id-2 div.sk-serial::before {content: \"\";position: absolute;border-left: 1px solid gray;box-sizing: border-box;top: 0;bottom: 0;left: 50%;z-index: 0;}#sk-container-id-2 div.sk-serial {display: flex;flex-direction: column;align-items: center;background-color: white;padding-right: 0.2em;padding-left: 0.2em;position: relative;}#sk-container-id-2 div.sk-item {position: relative;z-index: 1;}#sk-container-id-2 div.sk-parallel {display: flex;align-items: stretch;justify-content: center;background-color: white;position: relative;}#sk-container-id-2 div.sk-item::before, #sk-container-id-2 div.sk-parallel-item::before {content: \"\";position: absolute;border-left: 1px solid gray;box-sizing: border-box;top: 0;bottom: 0;left: 50%;z-index: -1;}#sk-container-id-2 div.sk-parallel-item {display: flex;flex-direction: column;z-index: 1;position: relative;background-color: white;}#sk-container-id-2 div.sk-parallel-item:first-child::after {align-self: flex-end;width: 50%;}#sk-container-id-2 div.sk-parallel-item:last-child::after {align-self: flex-start;width: 50%;}#sk-container-id-2 div.sk-parallel-item:only-child::after {width: 0;}#sk-container-id-2 div.sk-dashed-wrapped {border: 1px dashed gray;margin: 0 0.4em 0.5em 0.4em;box-sizing: border-box;padding-bottom: 0.4em;background-color: white;}#sk-container-id-2 div.sk-label label {font-family: monospace;font-weight: bold;display: inline-block;line-height: 1.2em;}#sk-container-id-2 div.sk-label-container {text-align: center;}#sk-container-id-2 div.sk-container {/* jupyter's `normalize.less` sets `[hidden] { display: none; }` but bootstrap.min.css set `[hidden] { display: none !important; }` so we also need the `!important` here to be able to override the default hidden behavior on the sphinx rendered scikit-learn.org. See: https://github.com/scikit-learn/scikit-learn/issues/21755 */display: inline-block !important;position: relative;}#sk-container-id-2 div.sk-text-repr-fallback {display: none;}</style><div id=\"sk-container-id-2\" class=\"sk-top-container\"><div class=\"sk-text-repr-fallback\"><pre>DecisionTreeClassifier()</pre><b>In a Jupyter environment, please rerun this cell to show the HTML representation or trust the notebook. <br />On GitHub, the HTML representation is unable to render, please try loading this page with nbviewer.org.</b></div><div class=\"sk-container\" hidden><div class=\"sk-item\"><div class=\"sk-estimator sk-toggleable\"><input class=\"sk-toggleable__control sk-hidden--visually\" id=\"sk-estimator-id-2\" type=\"checkbox\" checked><label for=\"sk-estimator-id-2\" class=\"sk-toggleable__label sk-toggleable__label-arrow\">DecisionTreeClassifier</label><div class=\"sk-toggleable__content\"><pre>DecisionTreeClassifier()</pre></div></div></div></div></div>"
            ]
          },
          "metadata": {},
          "execution_count": 58
        }
      ],
      "source": [
        "# Train the model with default parameters\n",
        "dt=DecisionTreeClassifier()\n",
        "dt.fit(x_train_vec,y_train)"
      ]
    },
    {
      "cell_type": "code",
      "source": [
        "dt.get_params()"
      ],
      "metadata": {
        "colab": {
          "base_uri": "https://localhost:8080/"
        },
        "id": "QVGIbUwkuGcc",
        "outputId": "512a84d6-ccd0-438f-84b3-2b9227d51a33"
      },
      "id": "QVGIbUwkuGcc",
      "execution_count": null,
      "outputs": [
        {
          "output_type": "execute_result",
          "data": {
            "text/plain": [
              "{'ccp_alpha': 0.0,\n",
              " 'class_weight': None,\n",
              " 'criterion': 'gini',\n",
              " 'max_depth': None,\n",
              " 'max_features': None,\n",
              " 'max_leaf_nodes': None,\n",
              " 'min_impurity_decrease': 0.0,\n",
              " 'min_samples_leaf': 1,\n",
              " 'min_samples_split': 2,\n",
              " 'min_weight_fraction_leaf': 0.0,\n",
              " 'random_state': None,\n",
              " 'splitter': 'best'}"
            ]
          },
          "metadata": {},
          "execution_count": 59
        }
      ]
    },
    {
      "cell_type": "code",
      "source": [
        "# Training score\n",
        "print('Training Accuracy:',dt.score(x_train_vec,y_train))\n",
        "print('Validation Accuracy:',dt.score(x_val_vec,y_val))"
      ],
      "metadata": {
        "colab": {
          "base_uri": "https://localhost:8080/"
        },
        "id": "l9MmObLLeHiE",
        "outputId": "f8628a8b-e1a7-4414-b768-3c7b843262f8"
      },
      "id": "l9MmObLLeHiE",
      "execution_count": null,
      "outputs": [
        {
          "output_type": "stream",
          "name": "stdout",
          "text": [
            "Training Accuracy: 0.9878625\n",
            "Validation Accuracy: 0.634075\n"
          ]
        }
      ]
    },
    {
      "cell_type": "code",
      "source": [
        "# Classification Report  on training set\n",
        "y_pred=dt.predict(x_train_vec)\n",
        "print(classification_report(y_train,y_pred))"
      ],
      "metadata": {
        "colab": {
          "base_uri": "https://localhost:8080/"
        },
        "id": "M7VoW4f_qo0R",
        "outputId": "ee35e25c-39ed-41c0-9411-500276293f7c"
      },
      "id": "M7VoW4f_qo0R",
      "execution_count": null,
      "outputs": [
        {
          "output_type": "stream",
          "name": "stdout",
          "text": [
            "              precision    recall  f1-score   support\n",
            "\n",
            "           0       0.99      0.99      0.99    560387\n",
            "           1       0.99      0.99      0.99    559613\n",
            "\n",
            "    accuracy                           0.99   1120000\n",
            "   macro avg       0.99      0.99      0.99   1120000\n",
            "weighted avg       0.99      0.99      0.99   1120000\n",
            "\n"
          ]
        }
      ]
    },
    {
      "cell_type": "code",
      "source": [
        "# ROC AUC Score\n",
        "y_score=dt.predict_proba(x_train_vec)[:,1]\n",
        "#define metrics\n",
        "fpr, tpr, _ =roc_curve(y_train,  y_score)\n",
        "auc = roc_auc_score(y_train, y_score)\n",
        "print('ROC-AUC on training set:',auc)"
      ],
      "metadata": {
        "colab": {
          "base_uri": "https://localhost:8080/"
        },
        "id": "89NsoV7crKsb",
        "outputId": "2f39972d-d4aa-48cd-cee0-2cf34d0e4b16"
      },
      "id": "89NsoV7crKsb",
      "execution_count": null,
      "outputs": [
        {
          "output_type": "stream",
          "name": "stdout",
          "text": [
            "ROC-AUC on training set: 0.9996432405407158\n"
          ]
        }
      ]
    },
    {
      "cell_type": "code",
      "source": [
        "# Classification report on validation set\n",
        "y_pred=dt.predict(x_val_vec)\n",
        "print(classification_report(y_val,y_pred))"
      ],
      "metadata": {
        "colab": {
          "base_uri": "https://localhost:8080/"
        },
        "id": "ZScvNXFp7ctg",
        "outputId": "c4883f41-ff12-44b3-b7ad-aba2161284b6"
      },
      "id": "ZScvNXFp7ctg",
      "execution_count": null,
      "outputs": [
        {
          "output_type": "stream",
          "name": "stdout",
          "text": [
            "              precision    recall  f1-score   support\n",
            "\n",
            "           0       0.63      0.64      0.64     79766\n",
            "           1       0.64      0.63      0.64     80234\n",
            "\n",
            "    accuracy                           0.64    160000\n",
            "   macro avg       0.64      0.64      0.64    160000\n",
            "weighted avg       0.64      0.64      0.64    160000\n",
            "\n"
          ]
        }
      ]
    },
    {
      "cell_type": "code",
      "source": [
        "y_score=dt.predict_proba(x_val_vec)[:,1]\n",
        "#define metrics\n",
        "fpr, tpr, _ =roc_curve(y_val,  y_score)\n",
        "auc = roc_auc_score(y_val, y_score)\n",
        "#create ROC curve\n",
        "plt.plot(fpr,tpr,label=\"AUC=\"+str(auc))\n",
        "plt.ylabel('True Positive Rate')\n",
        "plt.xlabel('False Positive Rate')\n",
        "plt.legend(loc=4)\n",
        "plt.show()"
      ],
      "metadata": {
        "colab": {
          "base_uri": "https://localhost:8080/",
          "height": 449
        },
        "id": "Iz3ndQvrwU9X",
        "outputId": "66bb3ee3-f19f-4ccd-a1e5-76977d010177"
      },
      "id": "Iz3ndQvrwU9X",
      "execution_count": null,
      "outputs": [
        {
          "output_type": "display_data",
          "data": {
            "text/plain": [
              "<Figure size 640x480 with 1 Axes>"
            ],
            "image/png": "[encoded data removed]"
          },
          "metadata": {}
        }
      ]
    },
    {
      "cell_type": "markdown",
      "source": [
        "From above result: \n",
        "It is clear that, The Decision Tree classifier is overfitting.\n",
        "Need to take countermeasure to reduce the overfitting"
      ],
      "metadata": {
        "id": "3TNq4mMdeh-J"
      },
      "id": "3TNq4mMdeh-J"
    },
    {
      "cell_type": "code",
      "source": [
        "#Utility function to report best scores \n",
        "def report (results,n_top=5):\n",
        "    for i in range(1, n_top+1):\n",
        "        candidates=np.flatnonzero(results['rank_test_score']==i)\n",
        "        for candidate in candidates:\n",
        "            print(\"Model with rank %d\"%i)\n",
        "            print(\"Mean validation score: {0:.3f} Std: {1:.3f}\".format(results['mean_test_score'][candidate],\n",
        "                                                                      results['std_test_score'][candidate]))\n",
        "            print(\"parameters:{0}\".format(results['params'][candidate]))\n",
        "            print('')"
      ],
      "metadata": {
        "id": "DPrb3OqFskan"
      },
      "id": "DPrb3OqFskan",
      "execution_count": null,
      "outputs": []
    },
    {
      "cell_type": "code",
      "source": [
        "def get_best_hyperparameter(x_tune_vec,y_tune,clf,random_state=0,cv=2,**param):\n",
        "  from sklearn.model_selection import RandomizedSearchCV\n",
        "  import random\n",
        "  rs=RandomizedSearchCV(clf,param_distributions=param,random_state=random_state,cv=cv)\n",
        "  rs.fit(x_tune_vec,y_tune)\n",
        "  report(rs.cv_results_)"
      ],
      "metadata": {
        "id": "K7X9xGKtimcl"
      },
      "id": "K7X9xGKtimcl",
      "execution_count": null,
      "outputs": []
    },
    {
      "cell_type": "code",
      "source": [
        "# Best parameter searching for the Decision tree Classifier.\n",
        "# Best model should have high accuracy,F-1, Precision, and Recall\n",
        "import scipy\n",
        "x_tune_vec=x_train_vec[0:150000]\n",
        "y_tune=y_train[0:150000]\n",
        "dt=DecisionTreeClassifier()\n",
        "param_dist = {\"max_depth\":scipy.stats.randint(2,20),\n",
        "              \"max_features\":scipy.stats.randint(1,14),\n",
        "              \"min_samples_leaf\":scipy.stats.randint(1,5),\n",
        "              \"criterion\": [\"gini\", \"entropy\"]}\n",
        "#clf = RandomizedSearchCV(dt, param_dist, random_state=50,cv=2)\n",
        "best_params=get_best_hyperparameter(x_tune_vec,y_tune,dt,5,3,**param_dist)"
      ],
      "metadata": {
        "id": "qiVwPrASHFnu",
        "colab": {
          "base_uri": "https://localhost:8080/"
        },
        "outputId": "644dbd75-aaa3-4776-9022-f1bcafbdf765"
      },
      "id": "qiVwPrASHFnu",
      "execution_count": null,
      "outputs": [
        {
          "output_type": "stream",
          "name": "stdout",
          "text": [
            "Model with rank 1\n",
            "Mean validation score: 0.671 Std: 0.002\n",
            "parameters:{'criterion': 'gini', 'max_depth': 11, 'max_features': 11, 'min_samples_leaf': 2}\n",
            "\n",
            "Model with rank 2\n",
            "Mean validation score: 0.671 Std: 0.001\n",
            "parameters:{'criterion': 'gini', 'max_depth': 11, 'max_features': 9, 'min_samples_leaf': 1}\n",
            "\n",
            "Model with rank 3\n",
            "Mean validation score: 0.651 Std: 0.004\n",
            "parameters:{'criterion': 'entropy', 'max_depth': 13, 'max_features': 2, 'min_samples_leaf': 4}\n",
            "\n",
            "Model with rank 4\n",
            "Mean validation score: 0.650 Std: 0.001\n",
            "parameters:{'criterion': 'entropy', 'max_depth': 16, 'max_features': 7, 'min_samples_leaf': 3}\n",
            "\n",
            "Model with rank 5\n",
            "Mean validation score: 0.647 Std: 0.001\n",
            "parameters:{'criterion': 'gini', 'max_depth': 16, 'max_features': 6, 'min_samples_leaf': 3}\n",
            "\n"
          ]
        }
      ]
    },
    {
      "cell_type": "markdown",
      "source": [
        "### Selecting the Best Parameter from Random Search CV\n"
      ],
      "metadata": {
        "id": "faPN3M00vM4i"
      },
      "id": "faPN3M00vM4i"
    },
    {
      "cell_type": "code",
      "source": [
        "# Training the Model\n",
        "params={'min_samples_leaf': 2,\n",
        " 'max_features': 11,\n",
        " 'max_depth':11,\n",
        " 'criterion': 'gini'}\n",
        "dt=DecisionTreeClassifier(random_state=0)\n",
        "dt=train_decision_tree(x_train_vec,y_train,**params)"
      ],
      "metadata": {
        "id": "YbClJUdLugfP"
      },
      "id": "YbClJUdLugfP",
      "execution_count": null,
      "outputs": []
    },
    {
      "cell_type": "code",
      "source": [
        "# Training score and validation score\n",
        "print('Training Accuracy:',dt.score(x_train_vec,y_train))\n",
        "print('Validation Accuracy:',dt.score(x_val_vec,y_val))"
      ],
      "metadata": {
        "colab": {
          "base_uri": "https://localhost:8080/"
        },
        "id": "4gaV3tjfxTEu",
        "outputId": "48fab1a6-0ff6-4b74-fd6e-7af6ae4e6cbb"
      },
      "id": "4gaV3tjfxTEu",
      "execution_count": null,
      "outputs": [
        {
          "output_type": "stream",
          "name": "stdout",
          "text": [
            "Training Accuracy: 0.7003071428571429\n",
            "Validation Accuracy: 0.688175\n"
          ]
        }
      ]
    },
    {
      "cell_type": "code",
      "source": [
        "# Test Score\n",
        "x=x_test_vec\n",
        "y=y_test\n",
        "print('Test Accuracy:',dt.score(x,y))"
      ],
      "metadata": {
        "colab": {
          "base_uri": "https://localhost:8080/"
        },
        "id": "nlmhNz-RubxQ",
        "outputId": "cb49e5a3-fecb-41b1-9f74-f894443e55bb"
      },
      "id": "nlmhNz-RubxQ",
      "execution_count": null,
      "outputs": [
        {
          "output_type": "stream",
          "name": "stdout",
          "text": [
            "Test Accuracy: 0.688834375\n"
          ]
        }
      ]
    },
    {
      "cell_type": "code",
      "source": [
        "\n",
        "y_pred=dt.predict(x)\n",
        "print(classification_report(y,y_pred))"
      ],
      "metadata": {
        "colab": {
          "base_uri": "https://localhost:8080/"
        },
        "id": "HTHr61NouVDs",
        "outputId": "bafb1ce2-b604-416e-81fc-5bcc14e54ad8"
      },
      "id": "HTHr61NouVDs",
      "execution_count": null,
      "outputs": [
        {
          "output_type": "stream",
          "name": "stdout",
          "text": [
            "              precision    recall  f1-score   support\n",
            "\n",
            "           0       0.69      0.69      0.69    159847\n",
            "           1       0.69      0.68      0.69    160153\n",
            "\n",
            "    accuracy                           0.69    320000\n",
            "   macro avg       0.69      0.69      0.69    320000\n",
            "weighted avg       0.69      0.69      0.69    320000\n",
            "\n"
          ]
        }
      ]
    },
    {
      "cell_type": "code",
      "source": [
        "y_score=dt.predict_proba(x)[:,1]\n",
        "#define metrics\n",
        "fpr, tpr, _ =roc_curve(y,  y_score)\n",
        "auc = roc_auc_score(y, y_score)\n",
        "#create ROC curve\n",
        "plt.plot(fpr,tpr,label=\"AUC=\"+str(auc))\n",
        "plt.ylabel('True Positive Rate')\n",
        "plt.xlabel('False Positive Rate')\n",
        "plt.legend(loc=4)\n",
        "plt.show()"
      ],
      "metadata": {
        "colab": {
          "base_uri": "https://localhost:8080/",
          "height": 449
        },
        "id": "nKLXTPmd8Tlk",
        "outputId": "2c225963-4d56-4399-b1eb-bf348b3ccffc"
      },
      "id": "nKLXTPmd8Tlk",
      "execution_count": null,
      "outputs": [
        {
          "output_type": "display_data",
          "data": {
            "text/plain": [
              "<Figure size 640x480 with 1 Axes>"
            ],
            "image/png": "[encoded data removed]"
          },
          "metadata": {}
        }
      ]
    },
    {
      "cell_type": "markdown",
      "source": [
        "### 2.Random Forest Classifier"
      ],
      "metadata": {
        "id": "JwmPu8OUHHNp"
      },
      "id": "JwmPu8OUHHNp"
    },
    {
      "cell_type": "code",
      "source": [
        "# Ensemble Technique:\n",
        "from sklearn.ensemble import RandomForestClassifier"
      ],
      "metadata": {
        "id": "Z2raFwZOHOSR"
      },
      "id": "Z2raFwZOHOSR",
      "execution_count": null,
      "outputs": []
    },
    {
      "cell_type": "code",
      "source": [
        "# Train with Default parameter\n",
        "rf=RandomForestClassifier()  "
      ],
      "metadata": {
        "id": "9b_VA3neHOUf"
      },
      "id": "9b_VA3neHOUf",
      "execution_count": null,
      "outputs": []
    },
    {
      "cell_type": "code",
      "source": [
        "rf.fit(x_train_vec[0:150000],y_train[0:150000])"
      ],
      "metadata": {
        "id": "S3vqorjJHOYK",
        "colab": {
          "base_uri": "https://localhost:8080/",
          "height": 74
        },
        "outputId": "b495cfd4-85d3-493b-c388-ee72c27fdc50"
      },
      "id": "S3vqorjJHOYK",
      "execution_count": null,
      "outputs": [
        {
          "output_type": "execute_result",
          "data": {
            "text/plain": [
              "RandomForestClassifier()"
            ],
            "text/html": [
              "<style>#sk-container-id-3 {color: black;background-color: white;}#sk-container-id-3 pre{padding: 0;}#sk-container-id-3 div.sk-toggleable {background-color: white;}#sk-container-id-3 label.sk-toggleable__label {cursor: pointer;display: block;width: 100%;margin-bottom: 0;padding: 0.3em;box-sizing: border-box;text-align: center;}#sk-container-id-3 label.sk-toggleable__label-arrow:before {content: \"▸\";float: left;margin-right: 0.25em;color: #696969;}#sk-container-id-3 label.sk-toggleable__label-arrow:hover:before {color: black;}#sk-container-id-3 div.sk-estimator:hover label.sk-toggleable__label-arrow:before {color: black;}#sk-container-id-3 div.sk-toggleable__content {max-height: 0;max-width: 0;overflow: hidden;text-align: left;background-color: #f0f8ff;}#sk-container-id-3 div.sk-toggleable__content pre {margin: 0.2em;color: black;border-radius: 0.25em;background-color: #f0f8ff;}#sk-container-id-3 input.sk-toggleable__control:checked~div.sk-toggleable__content {max-height: 200px;max-width: 100%;overflow: auto;}#sk-container-id-3 input.sk-toggleable__control:checked~label.sk-toggleable__label-arrow:before {content: \"▾\";}#sk-container-id-3 div.sk-estimator input.sk-toggleable__control:checked~label.sk-toggleable__label {background-color: #d4ebff;}#sk-container-id-3 div.sk-label input.sk-toggleable__control:checked~label.sk-toggleable__label {background-color: #d4ebff;}#sk-container-id-3 input.sk-hidden--visually {border: 0;clip: rect(1px 1px 1px 1px);clip: rect(1px, 1px, 1px, 1px);height: 1px;margin: -1px;overflow: hidden;padding: 0;position: absolute;width: 1px;}#sk-container-id-3 div.sk-estimator {font-family: monospace;background-color: #f0f8ff;border: 1px dotted black;border-radius: 0.25em;box-sizing: border-box;margin-bottom: 0.5em;}#sk-container-id-3 div.sk-estimator:hover {background-color: #d4ebff;}#sk-container-id-3 div.sk-parallel-item::after {content: \"\";width: 100%;border-bottom: 1px solid gray;flex-grow: 1;}#sk-container-id-3 div.sk-label:hover label.sk-toggleable__label {background-color: #d4ebff;}#sk-container-id-3 div.sk-serial::before {content: \"\";position: absolute;border-left: 1px solid gray;box-sizing: border-box;top: 0;bottom: 0;left: 50%;z-index: 0;}#sk-container-id-3 div.sk-serial {display: flex;flex-direction: column;align-items: center;background-color: white;padding-right: 0.2em;padding-left: 0.2em;position: relative;}#sk-container-id-3 div.sk-item {position: relative;z-index: 1;}#sk-container-id-3 div.sk-parallel {display: flex;align-items: stretch;justify-content: center;background-color: white;position: relative;}#sk-container-id-3 div.sk-item::before, #sk-container-id-3 div.sk-parallel-item::before {content: \"\";position: absolute;border-left: 1px solid gray;box-sizing: border-box;top: 0;bottom: 0;left: 50%;z-index: -1;}#sk-container-id-3 div.sk-parallel-item {display: flex;flex-direction: column;z-index: 1;position: relative;background-color: white;}#sk-container-id-3 div.sk-parallel-item:first-child::after {align-self: flex-end;width: 50%;}#sk-container-id-3 div.sk-parallel-item:last-child::after {align-self: flex-start;width: 50%;}#sk-container-id-3 div.sk-parallel-item:only-child::after {width: 0;}#sk-container-id-3 div.sk-dashed-wrapped {border: 1px dashed gray;margin: 0 0.4em 0.5em 0.4em;box-sizing: border-box;padding-bottom: 0.4em;background-color: white;}#sk-container-id-3 div.sk-label label {font-family: monospace;font-weight: bold;display: inline-block;line-height: 1.2em;}#sk-container-id-3 div.sk-label-container {text-align: center;}#sk-container-id-3 div.sk-container {/* jupyter's `normalize.less` sets `[hidden] { display: none; }` but bootstrap.min.css set `[hidden] { display: none !important; }` so we also need the `!important` here to be able to override the default hidden behavior on the sphinx rendered scikit-learn.org. See: https://github.com/scikit-learn/scikit-learn/issues/21755 */display: inline-block !important;position: relative;}#sk-container-id-3 div.sk-text-repr-fallback {display: none;}</style><div id=\"sk-container-id-3\" class=\"sk-top-container\"><div class=\"sk-text-repr-fallback\"><pre>RandomForestClassifier()</pre><b>In a Jupyter environment, please rerun this cell to show the HTML representation or trust the notebook. <br />On GitHub, the HTML representation is unable to render, please try loading this page with nbviewer.org.</b></div><div class=\"sk-container\" hidden><div class=\"sk-item\"><div class=\"sk-estimator sk-toggleable\"><input class=\"sk-toggleable__control sk-hidden--visually\" id=\"sk-estimator-id-3\" type=\"checkbox\" checked><label for=\"sk-estimator-id-3\" class=\"sk-toggleable__label sk-toggleable__label-arrow\">RandomForestClassifier</label><div class=\"sk-toggleable__content\"><pre>RandomForestClassifier()</pre></div></div></div></div></div>"
            ]
          },
          "metadata": {},
          "execution_count": 77
        }
      ]
    },
    {
      "cell_type": "code",
      "source": [
        "rf.get_params()"
      ],
      "metadata": {
        "colab": {
          "base_uri": "https://localhost:8080/"
        },
        "id": "HS3VC7xy4LYM",
        "outputId": "e23ab6e4-343f-45fc-a320-a1b8b5a52fb5"
      },
      "id": "HS3VC7xy4LYM",
      "execution_count": null,
      "outputs": [
        {
          "output_type": "execute_result",
          "data": {
            "text/plain": [
              "{'bootstrap': True,\n",
              " 'ccp_alpha': 0.0,\n",
              " 'class_weight': None,\n",
              " 'criterion': 'gini',\n",
              " 'max_depth': None,\n",
              " 'max_features': 'sqrt',\n",
              " 'max_leaf_nodes': None,\n",
              " 'max_samples': None,\n",
              " 'min_impurity_decrease': 0.0,\n",
              " 'min_samples_leaf': 1,\n",
              " 'min_samples_split': 2,\n",
              " 'min_weight_fraction_leaf': 0.0,\n",
              " 'n_estimators': 100,\n",
              " 'n_jobs': None,\n",
              " 'oob_score': False,\n",
              " 'random_state': None,\n",
              " 'verbose': 0,\n",
              " 'warm_start': False}"
            ]
          },
          "metadata": {},
          "execution_count": 80
        }
      ]
    },
    {
      "cell_type": "code",
      "source": [
        "print('Training Accuracy:',rf.score(x_train_vec,y_train))\n",
        "print('Validation Accuracy:',rf.score(x_val_vec,y_val))"
      ],
      "metadata": {
        "id": "7K0fuvy9HOa-",
        "colab": {
          "base_uri": "https://localhost:8080/"
        },
        "outputId": "8ae03929-71b7-4052-a391-585807df1198"
      },
      "id": "7K0fuvy9HOa-",
      "execution_count": null,
      "outputs": [
        {
          "output_type": "stream",
          "name": "stdout",
          "text": [
            "Training Accuracy: 0.7461803571428571\n",
            "Validation Accuracy: 0.70793125\n"
          ]
        }
      ]
    },
    {
      "cell_type": "code",
      "source": [
        "y_pred=rf.predict(x_train_vec)\n",
        "print(classification_report(y_train,y_pred))"
      ],
      "metadata": {
        "colab": {
          "base_uri": "https://localhost:8080/"
        },
        "id": "xP-xHwlo-jGN",
        "outputId": "6c2bc43c-9598-47c7-9caf-f57d26c2de14"
      },
      "id": "xP-xHwlo-jGN",
      "execution_count": null,
      "outputs": [
        {
          "output_type": "stream",
          "name": "stdout",
          "text": [
            "              precision    recall  f1-score   support\n",
            "\n",
            "           0       0.74      0.76      0.75    560387\n",
            "           1       0.75      0.74      0.74    559613\n",
            "\n",
            "    accuracy                           0.75   1120000\n",
            "   macro avg       0.75      0.75      0.75   1120000\n",
            "weighted avg       0.75      0.75      0.75   1120000\n",
            "\n"
          ]
        }
      ]
    },
    {
      "cell_type": "code",
      "source": [
        "y_score=rf.predict_proba(x_train_vec)[:,1]\n",
        "#define metrics\n",
        "fpr, tpr, _ =roc_curve(y_train,  y_score)\n",
        "auc = roc_auc_score(y_train, y_score)\n",
        "#create ROC curve\n",
        "plt.plot(fpr,tpr,label=\"AUC=\"+str(auc))\n",
        "plt.ylabel('True Positive Rate')\n",
        "plt.xlabel('False Positive Rate')\n",
        "plt.legend(loc=4)\n",
        "plt.show()"
      ],
      "metadata": {
        "colab": {
          "base_uri": "https://localhost:8080/",
          "height": 449
        },
        "id": "RRnIR5R78VVx",
        "outputId": "23cce111-be60-43de-c505-27026e92c58b"
      },
      "id": "RRnIR5R78VVx",
      "execution_count": null,
      "outputs": [
        {
          "output_type": "display_data",
          "data": {
            "text/plain": [
              "<Figure size 640x480 with 1 Axes>"
            ],
            "image/png": "[encoded data removed]"
          },
          "metadata": {}
        }
      ]
    },
    {
      "cell_type": "code",
      "source": [
        "# Let try some other setting:\n",
        "params={'n_estimators':50,\n",
        "        'min_samples_leaf': 2,\n",
        "        'max_features': 11,\n",
        "        'max_depth':11,\n",
        "        'criterion': 'gini'}"
      ],
      "metadata": {
        "id": "HXPej26ZHPO0"
      },
      "id": "HXPej26ZHPO0",
      "execution_count": null,
      "outputs": []
    },
    {
      "cell_type": "code",
      "source": [
        "rf=RandomForestClassifier()\n",
        "rf.set_params(**params)\n",
        "rf.fit(x_train_vec[0:150000],y_train[0:150000])"
      ],
      "metadata": {
        "colab": {
          "base_uri": "https://localhost:8080/",
          "height": 91
        },
        "id": "_AJBC4bo8Qz5",
        "outputId": "448de73e-f5cc-4702-8ac7-3529ff07c81e"
      },
      "id": "_AJBC4bo8Qz5",
      "execution_count": null,
      "outputs": [
        {
          "output_type": "execute_result",
          "data": {
            "text/plain": [
              "RandomForestClassifier(max_depth=11, max_features=11, min_samples_leaf=2,\n",
              "                       n_estimators=50)"
            ],
            "text/html": [
              "<style>#sk-container-id-4 {color: black;background-color: white;}#sk-container-id-4 pre{padding: 0;}#sk-container-id-4 div.sk-toggleable {background-color: white;}#sk-container-id-4 label.sk-toggleable__label {cursor: pointer;display: block;width: 100%;margin-bottom: 0;padding: 0.3em;box-sizing: border-box;text-align: center;}#sk-container-id-4 label.sk-toggleable__label-arrow:before {content: \"▸\";float: left;margin-right: 0.25em;color: #696969;}#sk-container-id-4 label.sk-toggleable__label-arrow:hover:before {color: black;}#sk-container-id-4 div.sk-estimator:hover label.sk-toggleable__label-arrow:before {color: black;}#sk-container-id-4 div.sk-toggleable__content {max-height: 0;max-width: 0;overflow: hidden;text-align: left;background-color: #f0f8ff;}#sk-container-id-4 div.sk-toggleable__content pre {margin: 0.2em;color: black;border-radius: 0.25em;background-color: #f0f8ff;}#sk-container-id-4 input.sk-toggleable__control:checked~div.sk-toggleable__content {max-height: 200px;max-width: 100%;overflow: auto;}#sk-container-id-4 input.sk-toggleable__control:checked~label.sk-toggleable__label-arrow:before {content: \"▾\";}#sk-container-id-4 div.sk-estimator input.sk-toggleable__control:checked~label.sk-toggleable__label {background-color: #d4ebff;}#sk-container-id-4 div.sk-label input.sk-toggleable__control:checked~label.sk-toggleable__label {background-color: #d4ebff;}#sk-container-id-4 input.sk-hidden--visually {border: 0;clip: rect(1px 1px 1px 1px);clip: rect(1px, 1px, 1px, 1px);height: 1px;margin: -1px;overflow: hidden;padding: 0;position: absolute;width: 1px;}#sk-container-id-4 div.sk-estimator {font-family: monospace;background-color: #f0f8ff;border: 1px dotted black;border-radius: 0.25em;box-sizing: border-box;margin-bottom: 0.5em;}#sk-container-id-4 div.sk-estimator:hover {background-color: #d4ebff;}#sk-container-id-4 div.sk-parallel-item::after {content: \"\";width: 100%;border-bottom: 1px solid gray;flex-grow: 1;}#sk-container-id-4 div.sk-label:hover label.sk-toggleable__label {background-color: #d4ebff;}#sk-container-id-4 div.sk-serial::before {content: \"\";position: absolute;border-left: 1px solid gray;box-sizing: border-box;top: 0;bottom: 0;left: 50%;z-index: 0;}#sk-container-id-4 div.sk-serial {display: flex;flex-direction: column;align-items: center;background-color: white;padding-right: 0.2em;padding-left: 0.2em;position: relative;}#sk-container-id-4 div.sk-item {position: relative;z-index: 1;}#sk-container-id-4 div.sk-parallel {display: flex;align-items: stretch;justify-content: center;background-color: white;position: relative;}#sk-container-id-4 div.sk-item::before, #sk-container-id-4 div.sk-parallel-item::before {content: \"\";position: absolute;border-left: 1px solid gray;box-sizing: border-box;top: 0;bottom: 0;left: 50%;z-index: -1;}#sk-container-id-4 div.sk-parallel-item {display: flex;flex-direction: column;z-index: 1;position: relative;background-color: white;}#sk-container-id-4 div.sk-parallel-item:first-child::after {align-self: flex-end;width: 50%;}#sk-container-id-4 div.sk-parallel-item:last-child::after {align-self: flex-start;width: 50%;}#sk-container-id-4 div.sk-parallel-item:only-child::after {width: 0;}#sk-container-id-4 div.sk-dashed-wrapped {border: 1px dashed gray;margin: 0 0.4em 0.5em 0.4em;box-sizing: border-box;padding-bottom: 0.4em;background-color: white;}#sk-container-id-4 div.sk-label label {font-family: monospace;font-weight: bold;display: inline-block;line-height: 1.2em;}#sk-container-id-4 div.sk-label-container {text-align: center;}#sk-container-id-4 div.sk-container {/* jupyter's `normalize.less` sets `[hidden] { display: none; }` but bootstrap.min.css set `[hidden] { display: none !important; }` so we also need the `!important` here to be able to override the default hidden behavior on the sphinx rendered scikit-learn.org. See: https://github.com/scikit-learn/scikit-learn/issues/21755 */display: inline-block !important;position: relative;}#sk-container-id-4 div.sk-text-repr-fallback {display: none;}</style><div id=\"sk-container-id-4\" class=\"sk-top-container\"><div class=\"sk-text-repr-fallback\"><pre>RandomForestClassifier(max_depth=11, max_features=11, min_samples_leaf=2,\n",
              "                       n_estimators=50)</pre><b>In a Jupyter environment, please rerun this cell to show the HTML representation or trust the notebook. <br />On GitHub, the HTML representation is unable to render, please try loading this page with nbviewer.org.</b></div><div class=\"sk-container\" hidden><div class=\"sk-item\"><div class=\"sk-estimator sk-toggleable\"><input class=\"sk-toggleable__control sk-hidden--visually\" id=\"sk-estimator-id-4\" type=\"checkbox\" checked><label for=\"sk-estimator-id-4\" class=\"sk-toggleable__label sk-toggleable__label-arrow\">RandomForestClassifier</label><div class=\"sk-toggleable__content\"><pre>RandomForestClassifier(max_depth=11, max_features=11, min_samples_leaf=2,\n",
              "                       n_estimators=50)</pre></div></div></div></div></div>"
            ]
          },
          "metadata": {},
          "execution_count": 87
        }
      ]
    },
    {
      "cell_type": "code",
      "source": [
        "print('Training Accuracy:',rf.score(x_train_vec,y_train))\n",
        "print('Validation Accuracy:',rf.score(x_val_vec,y_val))"
      ],
      "metadata": {
        "colab": {
          "base_uri": "https://localhost:8080/"
        },
        "id": "GzHm2Tc-8Q3s",
        "outputId": "59635b8a-37de-4cb7-8403-f352c059624a"
      },
      "id": "GzHm2Tc-8Q3s",
      "execution_count": null,
      "outputs": [
        {
          "output_type": "stream",
          "name": "stdout",
          "text": [
            "Training Accuracy: 0.7117580357142858\n",
            "Validation Accuracy: 0.70293125\n"
          ]
        }
      ]
    },
    {
      "cell_type": "code",
      "source": [
        "print('Test Accuracy:',rf.score(x_test_vec,y_test))"
      ],
      "metadata": {
        "colab": {
          "base_uri": "https://localhost:8080/"
        },
        "id": "Hukl43CD_VSZ",
        "outputId": "fc17cb97-a75f-41bd-98a1-5b634ba9e4e2"
      },
      "id": "Hukl43CD_VSZ",
      "execution_count": null,
      "outputs": [
        {
          "output_type": "stream",
          "name": "stdout",
          "text": [
            "Test Accuracy: 0.7033375\n"
          ]
        }
      ]
    },
    {
      "cell_type": "code",
      "source": [
        "y_pred=rf.predict(x_test_vec)\n",
        "print(classification_report(y_test,y_pred))"
      ],
      "metadata": {
        "colab": {
          "base_uri": "https://localhost:8080/"
        },
        "id": "C-tTakVE_Bl_",
        "outputId": "8c41133d-9129-4861-c54b-e7ea91abd6e9"
      },
      "id": "C-tTakVE_Bl_",
      "execution_count": null,
      "outputs": [
        {
          "output_type": "stream",
          "name": "stdout",
          "text": [
            "              precision    recall  f1-score   support\n",
            "\n",
            "           0       0.70      0.72      0.71    159847\n",
            "           1       0.71      0.69      0.70    160153\n",
            "\n",
            "    accuracy                           0.70    320000\n",
            "   macro avg       0.70      0.70      0.70    320000\n",
            "weighted avg       0.70      0.70      0.70    320000\n",
            "\n"
          ]
        }
      ]
    },
    {
      "cell_type": "code",
      "source": [
        "y_score=rf.predict_proba(x_test_vec)[:,1]\n",
        "#define metrics\n",
        "fpr, tpr, _ =roc_curve(y_test,  y_score)\n",
        "auc = roc_auc_score(y_test, y_score)\n",
        "#create ROC curve\n",
        "plt.plot(fpr,tpr,label=\"AUC=\"+str(auc))\n",
        "plt.ylabel('True Positive Rate')\n",
        "plt.xlabel('False Positive Rate')\n",
        "plt.legend(loc=4)\n",
        "plt.show()"
      ],
      "metadata": {
        "colab": {
          "base_uri": "https://localhost:8080/",
          "height": 449
        },
        "id": "t1MrwwZw-dyn",
        "outputId": "803d78d7-f3e6-46bd-9927-8c2db242c36c"
      },
      "id": "t1MrwwZw-dyn",
      "execution_count": null,
      "outputs": [
        {
          "output_type": "display_data",
          "data": {
            "text/plain": [
              "<Figure size 640x480 with 1 Axes>"
            ],
            "image/png": "[encoded data removed]"
          },
          "metadata": {}
        }
      ]
    },
    {
      "cell_type": "markdown",
      "source": [
        "### 3. Logistic Regression "
      ],
      "metadata": {
        "id": "LKJN86nTHQDG"
      },
      "id": "LKJN86nTHQDG"
    },
    {
      "cell_type": "code",
      "source": [
        "from sklearn.linear_model import LogisticRegression"
      ],
      "metadata": {
        "id": "Pm1geJ4rHo37"
      },
      "id": "Pm1geJ4rHo37",
      "execution_count": null,
      "outputs": []
    },
    {
      "cell_type": "code",
      "source": [
        "lr=LogisticRegression(penalty='l2',max_iter=500,n_jobs=-1)"
      ],
      "metadata": {
        "id": "pDa9yJyvHo7J"
      },
      "id": "pDa9yJyvHo7J",
      "execution_count": null,
      "outputs": []
    },
    {
      "cell_type": "code",
      "execution_count": null,
      "id": "a2784fb0",
      "metadata": {
        "id": "a2784fb0",
        "colab": {
          "base_uri": "https://localhost:8080/",
          "height": 74
        },
        "outputId": "497f1d78-04dd-43b0-9d61-3a83b0dfc717"
      },
      "outputs": [
        {
          "output_type": "execute_result",
          "data": {
            "text/plain": [
              "LogisticRegression(max_iter=500, n_jobs=-1)"
            ],
            "text/html": [
              "<style>#sk-container-id-6 {color: black;background-color: white;}#sk-container-id-6 pre{padding: 0;}#sk-container-id-6 div.sk-toggleable {background-color: white;}#sk-container-id-6 label.sk-toggleable__label {cursor: pointer;display: block;width: 100%;margin-bottom: 0;padding: 0.3em;box-sizing: border-box;text-align: center;}#sk-container-id-6 label.sk-toggleable__label-arrow:before {content: \"▸\";float: left;margin-right: 0.25em;color: #696969;}#sk-container-id-6 label.sk-toggleable__label-arrow:hover:before {color: black;}#sk-container-id-6 div.sk-estimator:hover label.sk-toggleable__label-arrow:before {color: black;}#sk-container-id-6 div.sk-toggleable__content {max-height: 0;max-width: 0;overflow: hidden;text-align: left;background-color: #f0f8ff;}#sk-container-id-6 div.sk-toggleable__content pre {margin: 0.2em;color: black;border-radius: 0.25em;background-color: #f0f8ff;}#sk-container-id-6 input.sk-toggleable__control:checked~div.sk-toggleable__content {max-height: 200px;max-width: 100%;overflow: auto;}#sk-container-id-6 input.sk-toggleable__control:checked~label.sk-toggleable__label-arrow:before {content: \"▾\";}#sk-container-id-6 div.sk-estimator input.sk-toggleable__control:checked~label.sk-toggleable__label {background-color: #d4ebff;}#sk-container-id-6 div.sk-label input.sk-toggleable__control:checked~label.sk-toggleable__label {background-color: #d4ebff;}#sk-container-id-6 input.sk-hidden--visually {border: 0;clip: rect(1px 1px 1px 1px);clip: rect(1px, 1px, 1px, 1px);height: 1px;margin: -1px;overflow: hidden;padding: 0;position: absolute;width: 1px;}#sk-container-id-6 div.sk-estimator {font-family: monospace;background-color: #f0f8ff;border: 1px dotted black;border-radius: 0.25em;box-sizing: border-box;margin-bottom: 0.5em;}#sk-container-id-6 div.sk-estimator:hover {background-color: #d4ebff;}#sk-container-id-6 div.sk-parallel-item::after {content: \"\";width: 100%;border-bottom: 1px solid gray;flex-grow: 1;}#sk-container-id-6 div.sk-label:hover label.sk-toggleable__label {background-color: #d4ebff;}#sk-container-id-6 div.sk-serial::before {content: \"\";position: absolute;border-left: 1px solid gray;box-sizing: border-box;top: 0;bottom: 0;left: 50%;z-index: 0;}#sk-container-id-6 div.sk-serial {display: flex;flex-direction: column;align-items: center;background-color: white;padding-right: 0.2em;padding-left: 0.2em;position: relative;}#sk-container-id-6 div.sk-item {position: relative;z-index: 1;}#sk-container-id-6 div.sk-parallel {display: flex;align-items: stretch;justify-content: center;background-color: white;position: relative;}#sk-container-id-6 div.sk-item::before, #sk-container-id-6 div.sk-parallel-item::before {content: \"\";position: absolute;border-left: 1px solid gray;box-sizing: border-box;top: 0;bottom: 0;left: 50%;z-index: -1;}#sk-container-id-6 div.sk-parallel-item {display: flex;flex-direction: column;z-index: 1;position: relative;background-color: white;}#sk-container-id-6 div.sk-parallel-item:first-child::after {align-self: flex-end;width: 50%;}#sk-container-id-6 div.sk-parallel-item:last-child::after {align-self: flex-start;width: 50%;}#sk-container-id-6 div.sk-parallel-item:only-child::after {width: 0;}#sk-container-id-6 div.sk-dashed-wrapped {border: 1px dashed gray;margin: 0 0.4em 0.5em 0.4em;box-sizing: border-box;padding-bottom: 0.4em;background-color: white;}#sk-container-id-6 div.sk-label label {font-family: monospace;font-weight: bold;display: inline-block;line-height: 1.2em;}#sk-container-id-6 div.sk-label-container {text-align: center;}#sk-container-id-6 div.sk-container {/* jupyter's `normalize.less` sets `[hidden] { display: none; }` but bootstrap.min.css set `[hidden] { display: none !important; }` so we also need the `!important` here to be able to override the default hidden behavior on the sphinx rendered scikit-learn.org. See: https://github.com/scikit-learn/scikit-learn/issues/21755 */display: inline-block !important;position: relative;}#sk-container-id-6 div.sk-text-repr-fallback {display: none;}</style><div id=\"sk-container-id-6\" class=\"sk-top-container\"><div class=\"sk-text-repr-fallback\"><pre>LogisticRegression(max_iter=500, n_jobs=-1)</pre><b>In a Jupyter environment, please rerun this cell to show the HTML representation or trust the notebook. <br />On GitHub, the HTML representation is unable to render, please try loading this page with nbviewer.org.</b></div><div class=\"sk-container\" hidden><div class=\"sk-item\"><div class=\"sk-estimator sk-toggleable\"><input class=\"sk-toggleable__control sk-hidden--visually\" id=\"sk-estimator-id-6\" type=\"checkbox\" checked><label for=\"sk-estimator-id-6\" class=\"sk-toggleable__label sk-toggleable__label-arrow\">LogisticRegression</label><div class=\"sk-toggleable__content\"><pre>LogisticRegression(max_iter=500, n_jobs=-1)</pre></div></div></div></div></div>"
            ]
          },
          "metadata": {},
          "execution_count": 112
        }
      ],
      "source": [
        "lr.fit(x_train_vec,y_train)"
      ]
    },
    {
      "cell_type": "code",
      "execution_count": null,
      "id": "62cce114",
      "metadata": {
        "id": "62cce114",
        "colab": {
          "base_uri": "https://localhost:8080/"
        },
        "outputId": "e06168b6-51a3-485b-ae80-4085339e207e"
      },
      "outputs": [
        {
          "output_type": "stream",
          "name": "stdout",
          "text": [
            "Training Accuracy: 0.6946205357142857\n",
            "Validation Accuracy: 0.69281875\n",
            "Test Accuracy: 0.694390625\n"
          ]
        }
      ],
      "source": [
        "print('Training Accuracy:',lr.score(x_train_vec,y_train))\n",
        "print('Validation Accuracy:',lr.score(x_val_vec,y_val))\n",
        "print('Test Accuracy:',lr.score(x_test_vec,y_test))"
      ]
    },
    {
      "cell_type": "code",
      "source": [
        "y_pred=lr.predict(x_test_vec)\n",
        "print(classification_report(y_test,y_pred))"
      ],
      "metadata": {
        "colab": {
          "base_uri": "https://localhost:8080/"
        },
        "id": "dwBuxXOaBZJJ",
        "outputId": "9e96f862-8228-4354-c79b-1ffc052e601f"
      },
      "id": "dwBuxXOaBZJJ",
      "execution_count": null,
      "outputs": [
        {
          "output_type": "stream",
          "name": "stdout",
          "text": [
            "              precision    recall  f1-score   support\n",
            "\n",
            "           0       0.69      0.70      0.70    159847\n",
            "           1       0.70      0.69      0.69    160153\n",
            "\n",
            "    accuracy                           0.69    320000\n",
            "   macro avg       0.69      0.69      0.69    320000\n",
            "weighted avg       0.69      0.69      0.69    320000\n",
            "\n"
          ]
        }
      ]
    },
    {
      "cell_type": "code",
      "source": [
        "y_score=lr.predict_proba(x_test_vec)[:,1]\n",
        "#define metrics\n",
        "fpr, tpr, _ =roc_curve(y_test,  y_score)\n",
        "auc = roc_auc_score(y_test, y_score)\n",
        "#create ROC curve\n",
        "plt.plot(fpr,tpr,label=\"AUC=\"+str(auc))\n",
        "plt.ylabel('True Positive Rate')\n",
        "plt.xlabel('False Positive Rate')\n",
        "plt.legend(loc=4)\n",
        "plt.show()"
      ],
      "metadata": {
        "colab": {
          "base_uri": "https://localhost:8080/",
          "height": 449
        },
        "id": "NAsyr6rwBiAo",
        "outputId": "58c8501b-cfce-4db1-baef-c1cf51e5033d"
      },
      "id": "NAsyr6rwBiAo",
      "execution_count": null,
      "outputs": [
        {
          "output_type": "display_data",
          "data": {
            "text/plain": [
              "<Figure size 640x480 with 1 Axes>"
            ],
            "image/png": "[encoded data removed]"
          },
          "metadata": {}
        }
      ]
    }
  ],
  "metadata": {
    "kernelspec": {
      "display_name": "Python 3 (ipykernel)",
      "language": "python",
      "name": "python3"
    },
    "language_info": {
      "codemirror_mode": {
        "name": "ipython",
        "version": 3
      },
      "file_extension": ".py",
      "mimetype": "text/x-python",
      "name": "python",
      "nbconvert_exporter": "python",
      "pygments_lexer": "ipython3",
      "version": "3.9.12"
    },
    "colab": {
      "provenance": []
    },
    "gpuClass": "standard"
  },
  "nbformat": 4,
  "nbformat_minor": 5
}